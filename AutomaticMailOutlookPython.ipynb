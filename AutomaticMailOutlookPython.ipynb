{
 "cells": [
  {
   "cell_type": "code",
   "execution_count": 23,
   "metadata": {},
   "outputs": [],
   "source": [
    "##send a mail through outlook with attachment\n",
    "\n",
    "import smtplib\n",
    "from email.mime.multipart import MIMEMultipart\n",
    "from email.mime.text import MIMEText\n",
    "from email.mime.base import MIMEBase\n",
    "from email import encoders\n",
    "\n",
    "username = \"XXXXX@manappuram.com\"\n",
    "password = \"XXXXX@123\"\n",
    "mail_from = \"XXXX@manappuram.com\"\n",
    "mail_to = \"XXXX@manappuram.com\"\n",
    "mail_cc = \"XXXX@manappuram.com,XXXX@manappuram.com\"\n",
    "mail_subject = \"Audit log Report\"\n",
    "mail_body = \"\"\"Dear Sir/Madam, \n",
    "\n",
    "Please find the attachment\"\"\"\n",
    "mail_attachment=r\"C:\\Users\\356285\\Desktop\\AML\\FinalData.xlsx\"\n",
    "mail_attachment_name=\"FinalData.xlsx\"\n",
    "\n",
    "mimemsg = MIMEMultipart()\n",
    "mimemsg['From']=mail_from\n",
    "mimemsg['To']=mail_to\n",
    "mimemsg['Cc']=mail_cc\n",
    "mimemsg['Subject']=mail_subject\n",
    "mimemsg.attach(MIMEText(mail_body, 'plain'))\n",
    "\n",
    "with open(mail_attachment, \"rb\") as attachment:\n",
    "    mimefile = MIMEBase('application', 'octet-stream')\n",
    "    mimefile.set_payload((attachment).read())\n",
    "    encoders.encode_base64(mimefile)\n",
    "    mimefile.add_header('Content-Disposition', \"attachment; filename= %s\" % mail_attachment_name)\n",
    "    mimemsg.attach(mimefile)\n",
    "    connection = smtplib.SMTP(host='smtp.office365.com', port=587)\n",
    "    connection.starttls()\n",
    "    connection.login(username,password)\n",
    "    connection.send_message(mimemsg)\n",
    "    connection.quit()\n",
    "    "
   ]
  },
  {
   "cell_type": "code",
   "execution_count": null,
   "metadata": {},
   "outputs": [],
   "source": []
  },
  {
   "cell_type": "code",
   "execution_count": null,
   "metadata": {},
   "outputs": [],
   "source": []
  }
 ],
 "metadata": {
  "kernelspec": {
   "display_name": "Python 3",
   "language": "python",
   "name": "python3"
  },
  "language_info": {
   "codemirror_mode": {
    "name": "ipython",
    "version": 3
   },
   "file_extension": ".py",
   "mimetype": "text/x-python",
   "name": "python",
   "nbconvert_exporter": "python",
   "pygments_lexer": "ipython3",
   "version": "3.7.6"
  }
 },
 "nbformat": 4,
 "nbformat_minor": 4
}
